{
 "cells": [
  {
   "cell_type": "code",
   "execution_count": 1,
   "id": "385ee0aa-2647-4cfc-b1c3-3c53d4f2a33d",
   "metadata": {},
   "outputs": [
    {
     "name": "stdout",
     "output_type": "stream",
     "text": [
      "Hello Amar\n",
      "Good Morning Amar\n"
     ]
    }
   ],
   "source": [
    "# Program 1 \n",
    "# basic fucntion implementation\n",
    "def greet(name, greeting = \"Hello\"):\n",
    "    print(f\"{greeting} {name}\")\n",
    "greet(\"Amar\")\n",
    "greet(\"Amar\", \"Good Morning\")\n",
    "    "
   ]
  },
  {
   "cell_type": "code",
   "execution_count": 2,
   "id": "eaec24a8-e603-4ee9-b4c2-6f00c0730d77",
   "metadata": {},
   "outputs": [
    {
     "name": "stdout",
     "output_type": "stream",
     "text": [
      "Amar 18 Kanpur\n"
     ]
    }
   ],
   "source": [
    "# Program 2\n",
    "#Named Arguments\n",
    "\n",
    "def create_profile(name, city, age=\"18\"):\n",
    "    print(f\"{name} {age} {city}\")\n",
    "\n",
    "create_profile(name=\"Amar\", city=\"Kanpur\")\n"
   ]
  },
  {
   "cell_type": "code",
   "execution_count": 3,
   "id": "bc855cee-77b5-4b85-bdf8-18bcd061a345",
   "metadata": {},
   "outputs": [
    {
     "data": {
      "text/plain": [
       "(6, {'x': 4, 'y': 5})"
      ]
     },
     "execution_count": 3,
     "metadata": {},
     "output_type": "execute_result"
    }
   ],
   "source": [
    "# Program 3\n",
    "# **Using *args and kwargs:\n",
    "def sum_numbers(*args, **kwargs):\n",
    "    sum_of_args = sum(arg for arg in args if isinstance(arg, (int, float)))\n",
    "    return sum_of_args, kwargs\n",
    "sum_numbers(1, 2, 3)\n",
    "sum_numbers(1, 2, 3, x=4, y=5)"
   ]
  },
  {
   "cell_type": "code",
   "execution_count": 4,
   "id": "932a322e-4b97-4ec2-ad40-92682a989369",
   "metadata": {},
   "outputs": [
    {
     "data": {
      "text/plain": [
       "[1, 4, 9, 16, 25]"
      ]
     },
     "execution_count": 4,
     "metadata": {},
     "output_type": "execute_result"
    }
   ],
   "source": [
    "# Program 4\n",
    "# Lambdas and Map\n",
    "def square_list(lst1):\n",
    "    return list(map(lambda x: x*x, lst1))\n",
    "\n",
    "square_list([1,2,3,4,5])\n"
   ]
  },
  {
   "cell_type": "code",
   "execution_count": 5,
   "id": "503b62bd-e0e7-4f74-a667-e57f2aa5034e",
   "metadata": {},
   "outputs": [
    {
     "data": {
      "text/plain": [
       "[2, 4]"
      ]
     },
     "execution_count": 5,
     "metadata": {},
     "output_type": "execute_result"
    }
   ],
   "source": [
    "#Program 5\n",
    "# Filter and Lambdas\n",
    "def filter_(lst2):\n",
    "    return list(filter(lambda x: x%2==0, lst2))\n",
    "\n",
    "filter_([1,2,3,4,5])"
   ]
  },
  {
   "cell_type": "code",
   "execution_count": 7,
   "id": "7622f8e2-a2af-4ae6-b2cd-351fc2ff747a",
   "metadata": {},
   "outputs": [
    {
     "data": {
      "text/plain": [
       "[0, 1, 4, 9, 16]"
      ]
     },
     "execution_count": 7,
     "metadata": {},
     "output_type": "execute_result"
    }
   ],
   "source": [
    "# Program 6\n",
    "# Basic list Comprehension\n",
    "def square_list_comp():\n",
    "    list = [x**2 for x in range(5)]\n",
    "    return list\n",
    "square_list_comp()"
   ]
  },
  {
   "cell_type": "code",
   "execution_count": 8,
   "id": "d12d9c07-c70a-4090-a7f7-fd0c3fc212c0",
   "metadata": {},
   "outputs": [
    {
     "data": {
      "text/plain": [
       "[2, 4, 6, 8, 10, 12, 14, 16, 18, 20]"
      ]
     },
     "execution_count": 8,
     "metadata": {},
     "output_type": "execute_result"
    }
   ],
   "source": [
    "#Program 7\n",
    "# List Comprehension with Condition\n",
    "def list_even():\n",
    "    list = [x for x in range(1,21) if x%2 ==0]\n",
    "    return list\n",
    "list_even()"
   ]
  },
  {
   "cell_type": "code",
   "execution_count": 5,
   "id": "a71f098d-91eb-4458-8f22-0ac1b4e0e1fd",
   "metadata": {},
   "outputs": [
    {
     "name": "stdout",
     "output_type": "stream",
     "text": [
      "directory,'test_folder' created\n",
      "pause for 3 seconds\n",
      "directory,'test_folder' deleted\n"
     ]
    }
   ],
   "source": [
    "#Program 8\n",
    "# Using os and time Modules\n",
    "\n",
    "import os\n",
    "import time\n",
    "\n",
    "def file_operations():\n",
    "    \n",
    "    os.makedirs(\"test_folder\")\n",
    "    print(\"directory,'test_folder' created\")\n",
    "          \n",
    "    print(\"pause for 3 seconds\")\n",
    "    time.sleep(3)\n",
    "\n",
    "    os.rmdir(\"test_folder\")\n",
    "    print(\"directory,'test_folder' deleted\")\n",
    "\n",
    "file_operations()\n",
    "          \n",
    "    "
   ]
  },
  {
   "cell_type": "code",
   "execution_count": 6,
   "id": "a522009f-8090-445b-8a36-464a1483dfb1",
   "metadata": {},
   "outputs": [
    {
     "name": "stdout",
     "output_type": "stream",
     "text": [
      "paused execution.....\n",
      "program end\n"
     ]
    }
   ],
   "source": [
    "# Program 9\n",
    "# Importing Specific Functions\n",
    "from time import sleep as pause\n",
    "\n",
    "def pause(times):\n",
    "    print(\"paused execution.....\")\n",
    "\n",
    "    time.sleep(times)\n",
    "    print(\"program end\")\n",
    "\n",
    "pause(10)"
   ]
  },
  {
   "cell_type": "code",
   "execution_count": 11,
   "id": "8fc74a3c-c4de-42a3-bb56-839a4b923e74",
   "metadata": {},
   "outputs": [
    {
     "name": "stdout",
     "output_type": "stream",
     "text": [
      "[1, 2, 3, 4, 5, 6]\n",
      "[1, 2, 3, 4, 5]\n"
     ]
    }
   ],
   "source": [
    "# Program 9\n",
    "# **Recursive Function with *args and kwargs(Flattening a list):\n",
    "def flatten_list(nested_lst, *args, **kwargs):\n",
    "    flat_list = []\n",
    "\n",
    "    for item in nested_lst:\n",
    "        if isinstance(item, list):\n",
    "            flat_list.extend(flatten_list(item, *args, **kwargs))\n",
    "        else:\n",
    "            flat_list.append(item)\n",
    "\n",
    "    if 'transform' in kwargs:\n",
    "        flat_list = [kwargs['transform'](x) for x in flat_list]\n",
    "\n",
    "    return flat_list\n",
    "\n",
    "print(flatten_list([1, [2, 3], [[4, 5], 6]]))\n",
    "print(flatten_list([[1, 2], [3, [4, [5]]]]))\n",
    "    "
   ]
  },
  {
   "cell_type": "code",
   "execution_count": null,
   "id": "9cefd779-585b-4eaa-abef-4a07fd8ae8c9",
   "metadata": {},
   "outputs": [],
   "source": []
  }
 ],
 "metadata": {
  "kernelspec": {
   "display_name": "Python 3 (ipykernel)",
   "language": "python",
   "name": "python3"
  },
  "language_info": {
   "codemirror_mode": {
    "name": "ipython",
    "version": 3
   },
   "file_extension": ".py",
   "mimetype": "text/x-python",
   "name": "python",
   "nbconvert_exporter": "python",
   "pygments_lexer": "ipython3",
   "version": "3.12.5"
  }
 },
 "nbformat": 4,
 "nbformat_minor": 5
}
